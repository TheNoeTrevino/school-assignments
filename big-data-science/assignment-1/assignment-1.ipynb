{
 "cells": [
  {
   "cell_type": "markdown",
   "id": "54e77e01",
   "metadata": {},
   "source": [
    "# Part One "
   ]
  },
  {
   "cell_type": "markdown",
   "id": "bba64ea4-32ba-4e59-b08b-527c73945104",
   "metadata": {},
   "source": [
    "## Hello world\n"
   ]
  },
  {
   "cell_type": "code",
   "execution_count": null,
   "id": "77a45285",
   "metadata": {},
   "outputs": [],
   "source": [
    "var = \"Hello, world!\"\n",
    "print(\"Length of var: \", len(var))\n",
    "print(\"Extracted var: \", var[:7])"
   ]
  },
  {
   "cell_type": "markdown",
   "id": "fdc0b778",
   "metadata": {},
   "source": [
    "## Different Types"
   ]
  },
  {
   "cell_type": "code",
   "execution_count": 9,
   "id": "cd14fe74",
   "metadata": {},
   "outputs": [
    {
     "name": "stdout",
     "output_type": "stream",
     "text": [
      "<class 'int'>\n",
      "<class 'float'>\n",
      "<class 'str'>\n"
     ]
    }
   ],
   "source": [
    "print(type(1))\n",
    "print(type(1.0))\n",
    "print(type(\"1\"))"
   ]
  },
  {
   "cell_type": "markdown",
   "id": "eea6d78d",
   "metadata": {},
   "source": [
    "## Area of a circle"
   ]
  },
  {
   "cell_type": "code",
   "execution_count": 18,
   "id": "797d0ce8",
   "metadata": {},
   "outputs": [
    {
     "name": "stdout",
     "output_type": "stream",
     "text": [
      "Area is: 12.566370614359172\n"
     ]
    }
   ],
   "source": [
    "from math import pi\n",
    "\n",
    "radius = int(input('The radius of a circle you would like to know the area of: '))\n",
    "\n",
    "area = pi * (radius * radius)\n",
    "\n",
    "print('Area is: ' + str(area))"
   ]
  },
  {
   "cell_type": "markdown",
   "id": "d70bf788",
   "metadata": {},
   "source": [
    "## Greater than or less than"
   ]
  },
  {
   "cell_type": "code",
   "execution_count": 11,
   "id": "4f2cfdcc-e403-4b8b-a12c-809b4da3015a",
   "metadata": {},
   "outputs": [],
   "source": [
    "def greater_or_less(v):\n",
    "    if v > 8:\n",
    "        if v == 10:\n",
    "            print(\"Value is 10\")\n",
    "        else:\n",
    "            print(\"Greater than 8\")\n",
    "\n",
    "    if v < 9:\n",
    "        print(\"Less than 9\")\n",
    "\n",
    "value = input(\"Enter an integer to check with the less or greater than function: \")\n"
   ]
  },
  {
   "cell_type": "code",
   "execution_count": 12,
   "id": "5364f64b",
   "metadata": {},
   "outputs": [
    {
     "name": "stdout",
     "output_type": "stream",
     "text": [
      "Greater than 8\n"
     ]
    }
   ],
   "source": [
    "greater_or_less(int(value))"
   ]
  },
  {
   "cell_type": "markdown",
   "id": "9789cb0b",
   "metadata": {},
   "source": [
    "## Reversed numbers"
   ]
  },
  {
   "cell_type": "code",
   "execution_count": 13,
   "id": "022c4917-4715-42f1-83f4-e50d682a5bef",
   "metadata": {},
   "outputs": [
    {
     "name": "stdout",
     "output_type": "stream",
     "text": [
      "9\n",
      "8\n",
      "7\n",
      "6\n",
      "5\n",
      "4\n",
      "3\n",
      "2\n",
      "1\n",
      "0\n"
     ]
    }
   ],
   "source": [
    "for i in reversed(range(10)):\n",
    "    print(i)"
   ]
  },
  {
   "cell_type": "markdown",
   "id": "b4270d38",
   "metadata": {},
   "source": [
    "## Odd numbers between 9 and 22"
   ]
  },
  {
   "cell_type": "code",
   "execution_count": 14,
   "id": "8792f6b4",
   "metadata": {},
   "outputs": [],
   "source": [
    "def previous_odd_nums():\n",
    "    print(\"Odd numbers between 9 and 22\")\n",
    "    for i in range(9, 22):\n",
    "        if i % 2 != 0:\n",
    "            print(i)"
   ]
  },
  {
   "cell_type": "code",
   "execution_count": 15,
   "id": "20074964-39a7-488b-942c-bf35b85ceec9",
   "metadata": {},
   "outputs": [
    {
     "name": "stdout",
     "output_type": "stream",
     "text": [
      "Odd numbers between 9 and 22\n",
      "9\n",
      "11\n",
      "13\n",
      "15\n",
      "17\n",
      "19\n",
      "21\n"
     ]
    }
   ],
   "source": [
    "previous_odd_nums()"
   ]
  },
  {
   "cell_type": "markdown",
   "id": "520e2ed6",
   "metadata": {},
   "source": [
    "# Part 2: Object Oriented Programming"
   ]
  },
  {
   "cell_type": "code",
   "execution_count": 8,
   "id": "b96ea83d",
   "metadata": {},
   "outputs": [],
   "source": [
    "class Triangle:\n",
    "    def __init__(self, base, height):\n",
    "        self.base = base\n",
    "        self.height = height\n",
    "\n",
    "    def getBase(self):\n",
    "        return self.base\n",
    "\n",
    "    def setBase(self, b):\n",
    "        self.base = b\n",
    "\n",
    "    def getHeight(self):\n",
    "        return self.height\n",
    "\n",
    "    def setHeight(self,h):\n",
    "        self.height = h\n",
    "\n",
    "    def Area(self):\n",
    "        area = (self.height * self.base)/2\n",
    "        return area"
   ]
  },
  {
   "cell_type": "code",
   "execution_count": 9,
   "id": "76929319",
   "metadata": {},
   "outputs": [],
   "source": [
    "test = Triangle(2, 3)"
   ]
  },
  {
   "cell_type": "code",
   "execution_count": 13,
   "id": "8863f6a1",
   "metadata": {},
   "outputs": [
    {
     "data": {
      "text/plain": [
       "2"
      ]
     },
     "execution_count": 13,
     "metadata": {},
     "output_type": "execute_result"
    }
   ],
   "source": [
    "test.getBase()"
   ]
  },
  {
   "cell_type": "code",
   "execution_count": 11,
   "id": "d7fbbcee",
   "metadata": {},
   "outputs": [
    {
     "data": {
      "text/plain": [
       "3"
      ]
     },
     "execution_count": 11,
     "metadata": {},
     "output_type": "execute_result"
    }
   ],
   "source": [
    "test.getHeight()"
   ]
  },
  {
   "cell_type": "code",
   "execution_count": 14,
   "id": "50ab58be",
   "metadata": {},
   "outputs": [
    {
     "data": {
      "text/plain": [
       "23"
      ]
     },
     "execution_count": 14,
     "metadata": {},
     "output_type": "execute_result"
    }
   ],
   "source": [
    "test.setHeight(23)\n",
    "test.getHeight()"
   ]
  },
  {
   "cell_type": "code",
   "execution_count": 15,
   "id": "1977ab53",
   "metadata": {},
   "outputs": [
    {
     "data": {
      "text/plain": [
       "49"
      ]
     },
     "execution_count": 15,
     "metadata": {},
     "output_type": "execute_result"
    }
   ],
   "source": [
    "test.setBase(49)\n",
    "test.getBase()"
   ]
  },
  {
   "cell_type": "code",
   "execution_count": 16,
   "id": "815df519",
   "metadata": {},
   "outputs": [
    {
     "data": {
      "text/plain": [
       "563.5"
      ]
     },
     "execution_count": 16,
     "metadata": {},
     "output_type": "execute_result"
    }
   ],
   "source": [
    "test.Area()"
   ]
  }
 ],
 "metadata": {
  "kernelspec": {
   "display_name": "dsa",
   "language": "python",
   "name": "dsa"
  },
  "language_info": {
   "codemirror_mode": {
    "name": "ipython",
    "version": 3
   },
   "file_extension": ".py",
   "mimetype": "text/x-python",
   "name": "python",
   "nbconvert_exporter": "python",
   "pygments_lexer": "ipython3",
   "version": "3.12.5"
  }
 },
 "nbformat": 4,
 "nbformat_minor": 5
}
