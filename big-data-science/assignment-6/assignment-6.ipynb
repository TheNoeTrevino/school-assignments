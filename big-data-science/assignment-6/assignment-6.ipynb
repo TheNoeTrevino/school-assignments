{
  "nbformat": 4,
  "nbformat_minor": 0,
  "metadata": {
    "colab": {
      "provenance": []
    },
    "kernelspec": {
      "name": "python3",
      "display_name": "Python 3"
    },
    "language_info": {
      "name": "python"
    }
  },
  "cells": [
    {
      "cell_type": "markdown",
      "source": [
        "# Imports"
      ],
      "metadata": {
        "id": "92lNXgJ-TtqI"
      }
    },
    {
      "cell_type": "code",
      "source": [
        "from math import sqrt\n",
        "from collections import Counter"
      ],
      "metadata": {
        "id": "OdMRVR-lTvr3"
      },
      "execution_count": 76,
      "outputs": []
    },
    {
      "cell_type": "markdown",
      "source": [
        "# Utilities"
      ],
      "metadata": {
        "id": "ef68uKuUW26A"
      }
    },
    {
      "cell_type": "code",
      "source": [
        "# euclidian distance\n",
        "def distance(point_1, point_2):\n",
        "    return sqrt((point_1[0] - point_2[0])**2 + (point_1[1] - point_2[1])**2)\n"
      ],
      "metadata": {
        "id": "OHdmFEYKTPTI"
      },
      "execution_count": 77,
      "outputs": []
    },
    {
      "cell_type": "code",
      "source": [
        "def knn_classify(k, training_points, training_classifications, point):\n",
        "    # tuple = (euc_distance, class)\n",
        "    distances = [(distance(point, training_points[i]), training_classifications[i]) for i in range(len(training_points))]\n",
        "    distances.sort(key=lambda distance: distance[0]) # sort by first value in tuple\n",
        "\n",
        "    # get the k nearest points by splice\n",
        "    k_nearest_points = distances[:k]\n",
        "    k_nearest_labels = [label for points, label in k_nearest_points] # get the lables, second value\n",
        "\n",
        "    most_common = Counter(k_nearest_labels).most_common(1) # this lists the n(param) most common ones, perfect for this\n",
        "    return most_common[0][0]\n"
      ],
      "metadata": {
        "id": "846cZ4uSTSB1"
      },
      "execution_count": 78,
      "outputs": []
    },
    {
      "cell_type": "code",
      "execution_count": 79,
      "metadata": {
        "id": "dJ7VSs0fSpEp"
      },
      "outputs": [],
      "source": [
        "# set training points to tuples: x, y\n",
        "training_points = [(4, 21), (5, 19), (10, 24), (4, 17), (3, 16), (11, 25), (14, 24), (8, 22), (10, 21), (12, 21)]\n",
        "\n",
        "# set class lables to y since used for classification\n",
        "training_classifications = [0, 0, 1, 0, 0, 1, 1, 0, 1, 1]\n"
      ]
    },
    {
      "cell_type": "markdown",
      "source": [
        "# Test"
      ],
      "metadata": {
        "id": "GMtou6mRXRqE"
      }
    },
    {
      "cell_type": "code",
      "source": [
        "point_1 = (8, 21)\n",
        "point_2 = (14, 25)\n",
        "point_3 = (11, 22)\n",
        "point_4 = (5, 20)\n",
        "\n",
        "test_1 = knn_classify(1, training_points, training_classifications, point_1)\n",
        "test_2 = knn_classify(1, training_points, training_classifications, point_2)\n",
        "test_3 = knn_classify(4, training_points, training_classifications, point_3)\n",
        "test_4 = knn_classify(4, training_points, training_classifications, point_4)\n",
        "\n",
        "print(f\"point (8, 21) classifification, should be 0: {test_1}\")\n",
        "print(f\"point (14, 25) classification, should be 1: {test_2}\")\n",
        "print(f\"point (8, 21) classifification, should be 1: {test_3}\")\n",
        "print(f\"point (14, 25) classification, should be 0: {test_4}\")\n"
      ],
      "metadata": {
        "colab": {
          "base_uri": "https://localhost:8080/"
        },
        "id": "YacYwbFGTUAI",
        "outputId": "8597a994-f008-45f4-d0c1-def3282ad962"
      },
      "execution_count": 80,
      "outputs": [
        {
          "output_type": "stream",
          "name": "stdout",
          "text": [
            "point (8, 21) classifification, should be 0: 0\n",
            "point (14, 25) classification, should be 1: 1\n",
            "point (8, 21) classifification, should be 1: 1\n",
            "point (14, 25) classification, should be 0: 0\n"
          ]
        }
      ]
    },
    {
      "cell_type": "markdown",
      "source": [
        "Refrences:\n",
        "\n",
        "https://machinelearningmastery.com/tutorial-to-implement-k-nearest-neighbors-in-python-from-scratch/\n"
      ],
      "metadata": {
        "id": "s2O4dICAXmb8"
      }
    }
  ]
}