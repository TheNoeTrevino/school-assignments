{
  "cells": [
    {
      "cell_type": "markdown",
      "metadata": {
        "id": "-8g7kN7CEZqN"
      },
      "source": [
        "# Imports\n"
      ]
    },
    {
      "cell_type": "code",
      "execution_count": 1,
      "metadata": {
        "id": "-oAvdOXkCkHP"
      },
      "outputs": [
        {
          "name": "stdout",
          "output_type": "stream",
          "text": [
            "Requirement already satisfied: joblib in /Users/noetrevino/.virtualenvs/neovim/lib/python3.12/site-packages (1.4.2)\n",
            "\n",
            "\u001b[1m[\u001b[0m\u001b[34;49mnotice\u001b[0m\u001b[1;39;49m]\u001b[0m\u001b[39;49m A new release of pip is available: \u001b[0m\u001b[31;49m24.2\u001b[0m\u001b[39;49m -> \u001b[0m\u001b[32;49m24.3.1\u001b[0m\n",
            "\u001b[1m[\u001b[0m\u001b[34;49mnotice\u001b[0m\u001b[1;39;49m]\u001b[0m\u001b[39;49m To update, run: \u001b[0m\u001b[32;49mpip install --upgrade pip\u001b[0m\n",
            "Note: you may need to restart the kernel to use updated packages.\n"
          ]
        }
      ],
      "source": [
        "%pip install joblib\n",
        "from joblib import Parallel, delayed\n",
        "import time"
      ]
    },
    {
      "cell_type": "markdown",
      "metadata": {
        "id": "MUODmg97Ebtc"
      },
      "source": [
        "# Helper Functions"
      ]
    },
    {
      "cell_type": "code",
      "execution_count": 2,
      "metadata": {
        "id": "jnybCOoUC2DC"
      },
      "outputs": [],
      "source": [
        "#a number is prime if it has no divisors other than 1 and itself\n",
        "def is_prime(n):\n",
        "  for i in range(2, n-1):\n",
        "    if n % i == 0:\n",
        "      return None\n",
        "  n_squared = n*n\n",
        "  return n_squared"
      ]
    },
    {
      "cell_type": "markdown",
      "metadata": {
        "id": "N21PeTuTHlIV"
      },
      "source": [
        "# Benchmarking"
      ]
    },
    {
      "cell_type": "markdown",
      "metadata": {
        "id": "pxZQdCH7H0zb"
      },
      "source": [
        "## No joblib"
      ]
    },
    {
      "cell_type": "code",
      "execution_count": 3,
      "metadata": {
        "colab": {
          "base_uri": "https://localhost:8080/"
        },
        "id": "gOg0fRmnE7aX",
        "outputId": "3f174cc7-2083-4954-db7a-4165a3766254"
      },
      "outputs": [
        {
          "name": "stdout",
          "output_type": "stream",
          "text": [
            "time took: 13.2226sec\n"
          ]
        }
      ],
      "source": [
        "no_joblib_list = []\n",
        "\n",
        "start = time.time()\n",
        "for i in range(2, 100000):\n",
        "  no_joblib_list.append(is_prime(i))\n",
        "end = time.time()\n",
        "\n",
        "print('time took: {:.4f}sec'.format(end-start))"
      ]
    },
    {
      "cell_type": "code",
      "execution_count": 4,
      "metadata": {
        "colab": {
          "base_uri": "https://localhost:8080/"
        },
        "id": "-rrGIglSF8A9",
        "outputId": "ac5fa72e-0eca-4eed-dfe1-650b7dcac64d"
      },
      "outputs": [
        {
          "data": {
            "text/plain": [
              "[4, 9, None, 25, None, 49, None, None, None, 121]"
            ]
          },
          "execution_count": 4,
          "metadata": {},
          "output_type": "execute_result"
        }
      ],
      "source": [
        "no_joblib_list[:10]"
      ]
    },
    {
      "cell_type": "code",
      "execution_count": 5,
      "metadata": {
        "colab": {
          "base_uri": "https://localhost:8080/"
        },
        "id": "fXneaLMkFyOq",
        "outputId": "f2bf012e-7295-4642-9c14-1050a66c90c2"
      },
      "outputs": [
        {
          "data": {
            "text/plain": [
              "[4, 9, 25, 49, 121, 169, 289, 361, 529, 841]"
            ]
          },
          "execution_count": 5,
          "metadata": {},
          "output_type": "execute_result"
        }
      ],
      "source": [
        "list(filter(lambda x: x != None, no_joblib_list))[:10]"
      ]
    },
    {
      "cell_type": "markdown",
      "metadata": {
        "id": "bOzwBaapH2ld"
      },
      "source": [
        "## With Joblib"
      ]
    },
    {
      "cell_type": "code",
      "execution_count": 6,
      "metadata": {
        "colab": {
          "base_uri": "https://localhost:8080/"
        },
        "id": "sUbyvrN_H4JQ",
        "outputId": "e116607c-7c1e-4cc5-b772-da5014faf578"
      },
      "outputs": [
        {
          "name": "stdout",
          "output_type": "stream",
          "text": [
            "time took: 4.4850sec\n"
          ]
        }
      ],
      "source": [
        "start = time.time()\n",
        "with_job_lib_list = Parallel(n_jobs=4)(delayed(is_prime)(i) for i in range(2, 100000))\n",
        "end = time.time()\n",
        "print('time took: {:.4f}sec'.format(end-start))"
      ]
    }
  ],
  "metadata": {
    "accelerator": "GPU",
    "colab": {
      "gpuType": "T4",
      "provenance": []
    },
    "kernelspec": {
      "display_name": "dsa",
      "language": "python",
      "name": "dsa"
    },
    "language_info": {
      "codemirror_mode": {
        "name": "ipython",
        "version": 3
      },
      "file_extension": ".py",
      "mimetype": "text/x-python",
      "name": "python",
      "nbconvert_exporter": "python",
      "pygments_lexer": "ipython3",
      "version": "3.12.7"
    }
  },
  "nbformat": 4,
  "nbformat_minor": 0
}
